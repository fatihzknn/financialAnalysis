{
 "cells": [
  {
   "cell_type": "code",
   "execution_count": 1,
   "id": "6e4f3b59",
   "metadata": {},
   "outputs": [
    {
     "name": "stdout",
     "output_type": "stream",
     "text": [
      "[*********************100%%**********************]  1 of 1 completed\n"
     ]
    }
   ],
   "source": [
    "import pandas as pd\n",
    "import yfinance as yf\n",
    "from datetime import datetime\n",
    "\n",
    "\n",
    "stock = \"THYAO.IS\"\n",
    "\n",
    "# time\n",
    "start_date = datetime(2012, 2, 2)\n",
    "end_date = datetime.today()\n",
    "\n",
    "# yfinance data pullling\n",
    "bist30_data = yf.download(stock, start=start_date, end=end_date)"
   ]
  },
  {
   "cell_type": "code",
   "execution_count": 2,
   "id": "bd1290c5",
   "metadata": {},
   "outputs": [
    {
     "data": {
      "text/html": [
       "<div>\n",
       "<style scoped>\n",
       "    .dataframe tbody tr th:only-of-type {\n",
       "        vertical-align: middle;\n",
       "    }\n",
       "\n",
       "    .dataframe tbody tr th {\n",
       "        vertical-align: top;\n",
       "    }\n",
       "\n",
       "    .dataframe thead th {\n",
       "        text-align: right;\n",
       "    }\n",
       "</style>\n",
       "<table border=\"1\" class=\"dataframe\">\n",
       "  <thead>\n",
       "    <tr style=\"text-align: right;\">\n",
       "      <th></th>\n",
       "      <th>Open</th>\n",
       "      <th>High</th>\n",
       "      <th>Low</th>\n",
       "      <th>Close</th>\n",
       "      <th>Adj Close</th>\n",
       "      <th>Volume</th>\n",
       "    </tr>\n",
       "    <tr>\n",
       "      <th>Date</th>\n",
       "      <th></th>\n",
       "      <th></th>\n",
       "      <th></th>\n",
       "      <th></th>\n",
       "      <th></th>\n",
       "      <th></th>\n",
       "    </tr>\n",
       "  </thead>\n",
       "  <tbody>\n",
       "    <tr>\n",
       "      <th>2012-02-02</th>\n",
       "      <td>2.295652</td>\n",
       "      <td>2.304347</td>\n",
       "      <td>2.147826</td>\n",
       "      <td>2.295652</td>\n",
       "      <td>2.257982</td>\n",
       "      <td>54276343</td>\n",
       "    </tr>\n",
       "    <tr>\n",
       "      <th>2012-02-03</th>\n",
       "      <td>2.347826</td>\n",
       "      <td>2.382608</td>\n",
       "      <td>2.278260</td>\n",
       "      <td>2.347826</td>\n",
       "      <td>2.309300</td>\n",
       "      <td>47848743</td>\n",
       "    </tr>\n",
       "    <tr>\n",
       "      <th>2012-02-06</th>\n",
       "      <td>2.417391</td>\n",
       "      <td>2.417391</td>\n",
       "      <td>2.330434</td>\n",
       "      <td>2.417391</td>\n",
       "      <td>2.377724</td>\n",
       "      <td>32352587</td>\n",
       "    </tr>\n",
       "    <tr>\n",
       "      <th>2012-02-07</th>\n",
       "      <td>2.391304</td>\n",
       "      <td>2.443478</td>\n",
       "      <td>2.365217</td>\n",
       "      <td>2.391304</td>\n",
       "      <td>2.352065</td>\n",
       "      <td>32743101</td>\n",
       "    </tr>\n",
       "    <tr>\n",
       "      <th>2012-02-08</th>\n",
       "      <td>2.408695</td>\n",
       "      <td>2.426086</td>\n",
       "      <td>2.391304</td>\n",
       "      <td>2.408695</td>\n",
       "      <td>2.369171</td>\n",
       "      <td>23288857</td>\n",
       "    </tr>\n",
       "    <tr>\n",
       "      <th>...</th>\n",
       "      <td>...</td>\n",
       "      <td>...</td>\n",
       "      <td>...</td>\n",
       "      <td>...</td>\n",
       "      <td>...</td>\n",
       "      <td>...</td>\n",
       "    </tr>\n",
       "    <tr>\n",
       "      <th>2023-12-11</th>\n",
       "      <td>254.250000</td>\n",
       "      <td>254.500000</td>\n",
       "      <td>246.300003</td>\n",
       "      <td>246.300003</td>\n",
       "      <td>246.300003</td>\n",
       "      <td>33288289</td>\n",
       "    </tr>\n",
       "    <tr>\n",
       "      <th>2023-12-12</th>\n",
       "      <td>246.300003</td>\n",
       "      <td>250.750000</td>\n",
       "      <td>244.699997</td>\n",
       "      <td>249.000000</td>\n",
       "      <td>249.000000</td>\n",
       "      <td>43530492</td>\n",
       "    </tr>\n",
       "    <tr>\n",
       "      <th>2023-12-13</th>\n",
       "      <td>247.600006</td>\n",
       "      <td>248.500000</td>\n",
       "      <td>241.100006</td>\n",
       "      <td>241.300003</td>\n",
       "      <td>241.300003</td>\n",
       "      <td>24937896</td>\n",
       "    </tr>\n",
       "    <tr>\n",
       "      <th>2023-12-14</th>\n",
       "      <td>244.500000</td>\n",
       "      <td>252.750000</td>\n",
       "      <td>241.899994</td>\n",
       "      <td>252.250000</td>\n",
       "      <td>252.250000</td>\n",
       "      <td>37366429</td>\n",
       "    </tr>\n",
       "    <tr>\n",
       "      <th>2023-12-15</th>\n",
       "      <td>252.750000</td>\n",
       "      <td>256.750000</td>\n",
       "      <td>251.500000</td>\n",
       "      <td>253.250000</td>\n",
       "      <td>253.250000</td>\n",
       "      <td>34025732</td>\n",
       "    </tr>\n",
       "  </tbody>\n",
       "</table>\n",
       "<p>3055 rows × 6 columns</p>\n",
       "</div>"
      ],
      "text/plain": [
       "                  Open        High         Low       Close   Adj Close  \\\n",
       "Date                                                                     \n",
       "2012-02-02    2.295652    2.304347    2.147826    2.295652    2.257982   \n",
       "2012-02-03    2.347826    2.382608    2.278260    2.347826    2.309300   \n",
       "2012-02-06    2.417391    2.417391    2.330434    2.417391    2.377724   \n",
       "2012-02-07    2.391304    2.443478    2.365217    2.391304    2.352065   \n",
       "2012-02-08    2.408695    2.426086    2.391304    2.408695    2.369171   \n",
       "...                ...         ...         ...         ...         ...   \n",
       "2023-12-11  254.250000  254.500000  246.300003  246.300003  246.300003   \n",
       "2023-12-12  246.300003  250.750000  244.699997  249.000000  249.000000   \n",
       "2023-12-13  247.600006  248.500000  241.100006  241.300003  241.300003   \n",
       "2023-12-14  244.500000  252.750000  241.899994  252.250000  252.250000   \n",
       "2023-12-15  252.750000  256.750000  251.500000  253.250000  253.250000   \n",
       "\n",
       "              Volume  \n",
       "Date                  \n",
       "2012-02-02  54276343  \n",
       "2012-02-03  47848743  \n",
       "2012-02-06  32352587  \n",
       "2012-02-07  32743101  \n",
       "2012-02-08  23288857  \n",
       "...              ...  \n",
       "2023-12-11  33288289  \n",
       "2023-12-12  43530492  \n",
       "2023-12-13  24937896  \n",
       "2023-12-14  37366429  \n",
       "2023-12-15  34025732  \n",
       "\n",
       "[3055 rows x 6 columns]"
      ]
     },
     "execution_count": 2,
     "metadata": {},
     "output_type": "execute_result"
    }
   ],
   "source": [
    "bist30_data"
   ]
  },
  {
   "cell_type": "code",
   "execution_count": 5,
   "id": "67f3fe97",
   "metadata": {},
   "outputs": [],
   "source": [
    "df = bist30_data[[\"Close\"]]"
   ]
  },
  {
   "cell_type": "code",
   "execution_count": 6,
   "id": "36179c39",
   "metadata": {},
   "outputs": [
    {
     "data": {
      "text/html": [
       "<div>\n",
       "<style scoped>\n",
       "    .dataframe tbody tr th:only-of-type {\n",
       "        vertical-align: middle;\n",
       "    }\n",
       "\n",
       "    .dataframe tbody tr th {\n",
       "        vertical-align: top;\n",
       "    }\n",
       "\n",
       "    .dataframe thead th {\n",
       "        text-align: right;\n",
       "    }\n",
       "</style>\n",
       "<table border=\"1\" class=\"dataframe\">\n",
       "  <thead>\n",
       "    <tr style=\"text-align: right;\">\n",
       "      <th></th>\n",
       "      <th>Close</th>\n",
       "    </tr>\n",
       "    <tr>\n",
       "      <th>Date</th>\n",
       "      <th></th>\n",
       "    </tr>\n",
       "  </thead>\n",
       "  <tbody>\n",
       "    <tr>\n",
       "      <th>2012-02-02</th>\n",
       "      <td>2.295652</td>\n",
       "    </tr>\n",
       "    <tr>\n",
       "      <th>2012-02-03</th>\n",
       "      <td>2.347826</td>\n",
       "    </tr>\n",
       "    <tr>\n",
       "      <th>2012-02-06</th>\n",
       "      <td>2.417391</td>\n",
       "    </tr>\n",
       "    <tr>\n",
       "      <th>2012-02-07</th>\n",
       "      <td>2.391304</td>\n",
       "    </tr>\n",
       "    <tr>\n",
       "      <th>2012-02-08</th>\n",
       "      <td>2.408695</td>\n",
       "    </tr>\n",
       "    <tr>\n",
       "      <th>...</th>\n",
       "      <td>...</td>\n",
       "    </tr>\n",
       "    <tr>\n",
       "      <th>2023-12-11</th>\n",
       "      <td>246.300003</td>\n",
       "    </tr>\n",
       "    <tr>\n",
       "      <th>2023-12-12</th>\n",
       "      <td>249.000000</td>\n",
       "    </tr>\n",
       "    <tr>\n",
       "      <th>2023-12-13</th>\n",
       "      <td>241.300003</td>\n",
       "    </tr>\n",
       "    <tr>\n",
       "      <th>2023-12-14</th>\n",
       "      <td>252.250000</td>\n",
       "    </tr>\n",
       "    <tr>\n",
       "      <th>2023-12-15</th>\n",
       "      <td>253.250000</td>\n",
       "    </tr>\n",
       "  </tbody>\n",
       "</table>\n",
       "<p>3055 rows × 1 columns</p>\n",
       "</div>"
      ],
      "text/plain": [
       "                 Close\n",
       "Date                  \n",
       "2012-02-02    2.295652\n",
       "2012-02-03    2.347826\n",
       "2012-02-06    2.417391\n",
       "2012-02-07    2.391304\n",
       "2012-02-08    2.408695\n",
       "...                ...\n",
       "2023-12-11  246.300003\n",
       "2023-12-12  249.000000\n",
       "2023-12-13  241.300003\n",
       "2023-12-14  252.250000\n",
       "2023-12-15  253.250000\n",
       "\n",
       "[3055 rows x 1 columns]"
      ]
     },
     "execution_count": 6,
     "metadata": {},
     "output_type": "execute_result"
    }
   ],
   "source": [
    "df"
   ]
  },
  {
   "cell_type": "code",
   "execution_count": 16,
   "id": "a2efdd0a",
   "metadata": {},
   "outputs": [
    {
     "name": "stderr",
     "output_type": "stream",
     "text": [
      "/var/folders/39/15zp5wjs7wq3fwkgthfgz4bc0000gn/T/ipykernel_18859/3184105762.py:1: SettingWithCopyWarning: \n",
      "A value is trying to be set on a copy of a slice from a DataFrame.\n",
      "Try using .loc[row_indexer,col_indexer] = value instead\n",
      "\n",
      "See the caveats in the documentation: https://pandas.pydata.org/pandas-docs/stable/user_guide/indexing.html#returning-a-view-versus-a-copy\n",
      "  df[\"Date\"] = df.index\n"
     ]
    },
    {
     "data": {
      "text/html": [
       "<div>\n",
       "<style scoped>\n",
       "    .dataframe tbody tr th:only-of-type {\n",
       "        vertical-align: middle;\n",
       "    }\n",
       "\n",
       "    .dataframe tbody tr th {\n",
       "        vertical-align: top;\n",
       "    }\n",
       "\n",
       "    .dataframe thead th {\n",
       "        text-align: right;\n",
       "    }\n",
       "</style>\n",
       "<table border=\"1\" class=\"dataframe\">\n",
       "  <thead>\n",
       "    <tr style=\"text-align: right;\">\n",
       "      <th></th>\n",
       "      <th>Close</th>\n",
       "      <th>Date</th>\n",
       "    </tr>\n",
       "    <tr>\n",
       "      <th>Date</th>\n",
       "      <th></th>\n",
       "      <th></th>\n",
       "    </tr>\n",
       "  </thead>\n",
       "  <tbody>\n",
       "    <tr>\n",
       "      <th>2012-02-02</th>\n",
       "      <td>2.295652</td>\n",
       "      <td>2012-02-02</td>\n",
       "    </tr>\n",
       "    <tr>\n",
       "      <th>2012-02-03</th>\n",
       "      <td>2.347826</td>\n",
       "      <td>2012-02-03</td>\n",
       "    </tr>\n",
       "    <tr>\n",
       "      <th>2012-02-06</th>\n",
       "      <td>2.417391</td>\n",
       "      <td>2012-02-06</td>\n",
       "    </tr>\n",
       "    <tr>\n",
       "      <th>2012-02-07</th>\n",
       "      <td>2.391304</td>\n",
       "      <td>2012-02-07</td>\n",
       "    </tr>\n",
       "    <tr>\n",
       "      <th>2012-02-08</th>\n",
       "      <td>2.408695</td>\n",
       "      <td>2012-02-08</td>\n",
       "    </tr>\n",
       "  </tbody>\n",
       "</table>\n",
       "</div>"
      ],
      "text/plain": [
       "               Close       Date\n",
       "Date                           \n",
       "2012-02-02  2.295652 2012-02-02\n",
       "2012-02-03  2.347826 2012-02-03\n",
       "2012-02-06  2.417391 2012-02-06\n",
       "2012-02-07  2.391304 2012-02-07\n",
       "2012-02-08  2.408695 2012-02-08"
      ]
     },
     "execution_count": 16,
     "metadata": {},
     "output_type": "execute_result"
    }
   ],
   "source": [
    "df[\"Date\"] = df.index  \n",
    "df.head()"
   ]
  },
  {
   "cell_type": "code",
   "execution_count": 17,
   "id": "f4fbe21f",
   "metadata": {},
   "outputs": [
    {
     "data": {
      "text/plain": [
       "[<matplotlib.lines.Line2D at 0x15ad366d0>]"
      ]
     },
     "execution_count": 17,
     "metadata": {},
     "output_type": "execute_result"
    },
    {
     "data": {
      "image/png": "[encoded data removed]",
      "text/plain": [
       "<Figure size 640x480 with 1 Axes>"
      ]
     },
     "metadata": {},
     "output_type": "display_data"
    }
   ],
   "source": [
    "import matplotlib.pyplot as plt\n",
    "\n",
    "plt.plot(df.index, df['Close'])"
   ]
  },
  {
   "cell_type": "code",
   "execution_count": 9,
   "id": "c2dc6356",
   "metadata": {},
   "outputs": [],
   "source": [
    "import numpy as np\n",
    "\n",
    "import torch\n",
    "import torch.nn as nn"
   ]
  },
  {
   "cell_type": "code",
   "execution_count": 10,
   "id": "2e8100dd",
   "metadata": {},
   "outputs": [
    {
     "data": {
      "text/plain": [
       "'cpu'"
      ]
     },
     "execution_count": 10,
     "metadata": {},
     "output_type": "execute_result"
    }
   ],
   "source": [
    "device = 'cuda:0' if torch.cuda.is_available() else 'cpu'\n",
    "device"
   ]
  },
  {
   "cell_type": "code",
   "execution_count": 18,
   "id": "ef4eb31a",
   "metadata": {},
   "outputs": [
    {
     "data": {
      "text/html": [
       "<div>\n",
       "<style scoped>\n",
       "    .dataframe tbody tr th:only-of-type {\n",
       "        vertical-align: middle;\n",
       "    }\n",
       "\n",
       "    .dataframe tbody tr th {\n",
       "        vertical-align: top;\n",
       "    }\n",
       "\n",
       "    .dataframe thead th {\n",
       "        text-align: right;\n",
       "    }\n",
       "</style>\n",
       "<table border=\"1\" class=\"dataframe\">\n",
       "  <thead>\n",
       "    <tr style=\"text-align: right;\">\n",
       "      <th></th>\n",
       "      <th>Close</th>\n",
       "      <th>Close(t-1)</th>\n",
       "      <th>Close(t-2)</th>\n",
       "      <th>Close(t-3)</th>\n",
       "      <th>Close(t-4)</th>\n",
       "      <th>Close(t-5)</th>\n",
       "      <th>Close(t-6)</th>\n",
       "      <th>Close(t-7)</th>\n",
       "    </tr>\n",
       "    <tr>\n",
       "      <th>Date</th>\n",
       "      <th></th>\n",
       "      <th></th>\n",
       "      <th></th>\n",
       "      <th></th>\n",
       "      <th></th>\n",
       "      <th></th>\n",
       "      <th></th>\n",
       "      <th></th>\n",
       "    </tr>\n",
       "  </thead>\n",
       "  <tbody>\n",
       "    <tr>\n",
       "      <th>2012-02-13</th>\n",
       "      <td>2.373913</td>\n",
       "      <td>2.295652</td>\n",
       "      <td>2.313043</td>\n",
       "      <td>2.408695</td>\n",
       "      <td>2.391304</td>\n",
       "      <td>2.417391</td>\n",
       "      <td>2.347826</td>\n",
       "      <td>2.295652</td>\n",
       "    </tr>\n",
       "    <tr>\n",
       "      <th>2012-02-14</th>\n",
       "      <td>2.330434</td>\n",
       "      <td>2.373913</td>\n",
       "      <td>2.295652</td>\n",
       "      <td>2.313043</td>\n",
       "      <td>2.408695</td>\n",
       "      <td>2.391304</td>\n",
       "      <td>2.417391</td>\n",
       "      <td>2.347826</td>\n",
       "    </tr>\n",
       "    <tr>\n",
       "      <th>2012-02-15</th>\n",
       "      <td>2.365217</td>\n",
       "      <td>2.330434</td>\n",
       "      <td>2.373913</td>\n",
       "      <td>2.295652</td>\n",
       "      <td>2.313043</td>\n",
       "      <td>2.408695</td>\n",
       "      <td>2.391304</td>\n",
       "      <td>2.417391</td>\n",
       "    </tr>\n",
       "    <tr>\n",
       "      <th>2012-02-16</th>\n",
       "      <td>2.347826</td>\n",
       "      <td>2.365217</td>\n",
       "      <td>2.330434</td>\n",
       "      <td>2.373913</td>\n",
       "      <td>2.295652</td>\n",
       "      <td>2.313043</td>\n",
       "      <td>2.408695</td>\n",
       "      <td>2.391304</td>\n",
       "    </tr>\n",
       "    <tr>\n",
       "      <th>2012-02-17</th>\n",
       "      <td>2.400000</td>\n",
       "      <td>2.347826</td>\n",
       "      <td>2.365217</td>\n",
       "      <td>2.330434</td>\n",
       "      <td>2.373913</td>\n",
       "      <td>2.295652</td>\n",
       "      <td>2.313043</td>\n",
       "      <td>2.408695</td>\n",
       "    </tr>\n",
       "    <tr>\n",
       "      <th>...</th>\n",
       "      <td>...</td>\n",
       "      <td>...</td>\n",
       "      <td>...</td>\n",
       "      <td>...</td>\n",
       "      <td>...</td>\n",
       "      <td>...</td>\n",
       "      <td>...</td>\n",
       "      <td>...</td>\n",
       "    </tr>\n",
       "    <tr>\n",
       "      <th>2023-12-11</th>\n",
       "      <td>246.300003</td>\n",
       "      <td>254.000000</td>\n",
       "      <td>259.750000</td>\n",
       "      <td>251.250000</td>\n",
       "      <td>259.000000</td>\n",
       "      <td>262.000000</td>\n",
       "      <td>260.750000</td>\n",
       "      <td>251.000000</td>\n",
       "    </tr>\n",
       "    <tr>\n",
       "      <th>2023-12-12</th>\n",
       "      <td>249.000000</td>\n",
       "      <td>246.300003</td>\n",
       "      <td>254.000000</td>\n",
       "      <td>259.750000</td>\n",
       "      <td>251.250000</td>\n",
       "      <td>259.000000</td>\n",
       "      <td>262.000000</td>\n",
       "      <td>260.750000</td>\n",
       "    </tr>\n",
       "    <tr>\n",
       "      <th>2023-12-13</th>\n",
       "      <td>241.300003</td>\n",
       "      <td>249.000000</td>\n",
       "      <td>246.300003</td>\n",
       "      <td>254.000000</td>\n",
       "      <td>259.750000</td>\n",
       "      <td>251.250000</td>\n",
       "      <td>259.000000</td>\n",
       "      <td>262.000000</td>\n",
       "    </tr>\n",
       "    <tr>\n",
       "      <th>2023-12-14</th>\n",
       "      <td>252.250000</td>\n",
       "      <td>241.300003</td>\n",
       "      <td>249.000000</td>\n",
       "      <td>246.300003</td>\n",
       "      <td>254.000000</td>\n",
       "      <td>259.750000</td>\n",
       "      <td>251.250000</td>\n",
       "      <td>259.000000</td>\n",
       "    </tr>\n",
       "    <tr>\n",
       "      <th>2023-12-15</th>\n",
       "      <td>253.250000</td>\n",
       "      <td>252.250000</td>\n",
       "      <td>241.300003</td>\n",
       "      <td>249.000000</td>\n",
       "      <td>246.300003</td>\n",
       "      <td>254.000000</td>\n",
       "      <td>259.750000</td>\n",
       "      <td>251.250000</td>\n",
       "    </tr>\n",
       "  </tbody>\n",
       "</table>\n",
       "<p>3048 rows × 8 columns</p>\n",
       "</div>"
      ],
      "text/plain": [
       "                 Close  Close(t-1)  Close(t-2)  Close(t-3)  Close(t-4)  \\\n",
       "Date                                                                     \n",
       "2012-02-13    2.373913    2.295652    2.313043    2.408695    2.391304   \n",
       "2012-02-14    2.330434    2.373913    2.295652    2.313043    2.408695   \n",
       "2012-02-15    2.365217    2.330434    2.373913    2.295652    2.313043   \n",
       "2012-02-16    2.347826    2.365217    2.330434    2.373913    2.295652   \n",
       "2012-02-17    2.400000    2.347826    2.365217    2.330434    2.373913   \n",
       "...                ...         ...         ...         ...         ...   \n",
       "2023-12-11  246.300003  254.000000  259.750000  251.250000  259.000000   \n",
       "2023-12-12  249.000000  246.300003  254.000000  259.750000  251.250000   \n",
       "2023-12-13  241.300003  249.000000  246.300003  254.000000  259.750000   \n",
       "2023-12-14  252.250000  241.300003  249.000000  246.300003  254.000000   \n",
       "2023-12-15  253.250000  252.250000  241.300003  249.000000  246.300003   \n",
       "\n",
       "            Close(t-5)  Close(t-6)  Close(t-7)  \n",
       "Date                                            \n",
       "2012-02-13    2.417391    2.347826    2.295652  \n",
       "2012-02-14    2.391304    2.417391    2.347826  \n",
       "2012-02-15    2.408695    2.391304    2.417391  \n",
       "2012-02-16    2.313043    2.408695    2.391304  \n",
       "2012-02-17    2.295652    2.313043    2.408695  \n",
       "...                ...         ...         ...  \n",
       "2023-12-11  262.000000  260.750000  251.000000  \n",
       "2023-12-12  259.000000  262.000000  260.750000  \n",
       "2023-12-13  251.250000  259.000000  262.000000  \n",
       "2023-12-14  259.750000  251.250000  259.000000  \n",
       "2023-12-15  254.000000  259.750000  251.250000  \n",
       "\n",
       "[3048 rows x 8 columns]"
      ]
     },
     "execution_count": 18,
     "metadata": {},
     "output_type": "execute_result"
    }
   ],
   "source": [
    "from copy import deepcopy as dc\n",
    "\n",
    "def prepare_dataframe_for_lstm(df, n_steps):\n",
    "    df = dc(df)\n",
    "    \n",
    "    df.set_index('Date', inplace=True)\n",
    "    \n",
    "    for i in range(1, n_steps+1):\n",
    "        df[f'Close(t-{i})'] = df['Close'].shift(i)\n",
    "        \n",
    "    df.dropna(inplace=True)\n",
    "    \n",
    "    return df\n",
    "\n",
    "lookback = 7\n",
    "shifted_df = prepare_dataframe_for_lstm(df, lookback)\n",
    "shifted_df"
   ]
  },
  {
   "cell_type": "code",
   "execution_count": 19,
   "id": "18aecc8c",
   "metadata": {},
   "outputs": [
    {
     "data": {
      "text/plain": [
       "array([[  2.37391305,   2.29565191,   2.31304312, ...,   2.41739106,\n",
       "          2.347826  ,   2.29565191],\n",
       "       [  2.33043408,   2.37391305,   2.29565191, ...,   2.39130402,\n",
       "          2.41739106,   2.347826  ],\n",
       "       [  2.36521697,   2.33043408,   2.37391305, ...,   2.40869498,\n",
       "          2.39130402,   2.41739106],\n",
       "       ...,\n",
       "       [241.30000305, 249.        , 246.30000305, ..., 251.25      ,\n",
       "        259.        , 262.        ],\n",
       "       [252.25      , 241.30000305, 249.        , ..., 259.75      ,\n",
       "        251.25      , 259.        ],\n",
       "       [253.25      , 252.25      , 241.30000305, ..., 254.        ,\n",
       "        259.75      , 251.25      ]])"
      ]
     },
     "execution_count": 19,
     "metadata": {},
     "output_type": "execute_result"
    }
   ],
   "source": [
    "shifted_df_as_np = shifted_df.to_numpy()\n",
    "\n",
    "shifted_df_as_np"
   ]
  },
  {
   "cell_type": "code",
   "execution_count": 20,
   "id": "c2f49b3f",
   "metadata": {},
   "outputs": [
    {
     "data": {
      "text/plain": [
       "array([[-0.99836758, -0.99895525, -0.99882466, ..., -0.9980411 ,\n",
       "        -0.99856347, -0.99895525],\n",
       "       [-0.99869407, -0.99836758, -0.99895525, ..., -0.99823699,\n",
       "        -0.9980411 , -0.99856347],\n",
       "       [-0.99843288, -0.99869407, -0.99836758, ..., -0.9981064 ,\n",
       "        -0.99823699, -0.9980411 ],\n",
       "       ...,\n",
       "       [ 0.79575248,  0.85357254,  0.83329799, ...,  0.87046801,\n",
       "         0.92866354,  0.95119085],\n",
       "       [ 0.87797711,  0.79575248,  0.85357254, ...,  0.93429537,\n",
       "         0.87046801,  0.92866354],\n",
       "       [ 0.88548621,  0.87797711,  0.79575248, ...,  0.89111804,\n",
       "         0.93429537,  0.87046801]])"
      ]
     },
     "execution_count": 20,
     "metadata": {},
     "output_type": "execute_result"
    }
   ],
   "source": [
    "from sklearn.preprocessing import MinMaxScaler\n",
    "\n",
    "scaler = MinMaxScaler(feature_range=(-1, 1))\n",
    "shifted_df_as_np = scaler.fit_transform(shifted_df_as_np)\n",
    "\n",
    "shifted_df_as_np"
   ]
  },
  {
   "cell_type": "code",
   "execution_count": 21,
   "id": "6baf34a7",
   "metadata": {},
   "outputs": [
    {
     "data": {
      "text/plain": [
       "((3048, 7), (3048,))"
      ]
     },
     "execution_count": 21,
     "metadata": {},
     "output_type": "execute_result"
    }
   ],
   "source": [
    "X = shifted_df_as_np[:, 1:]\n",
    "y = shifted_df_as_np[:, 0]\n",
    "\n",
    "X.shape, y.shape"
   ]
  },
  {
   "cell_type": "code",
   "execution_count": 22,
   "id": "1da310fe",
   "metadata": {},
   "outputs": [
    {
     "data": {
      "text/plain": [
       "array([[-0.99895525, -0.99856347, -0.9980411 , ..., -0.9981064 ,\n",
       "        -0.99882466, -0.99895525],\n",
       "       [-0.99856347, -0.9980411 , -0.99823699, ..., -0.99882466,\n",
       "        -0.99895525, -0.99836758],\n",
       "       [-0.9980411 , -0.99823699, -0.9981064 , ..., -0.99895525,\n",
       "        -0.99836758, -0.99869407],\n",
       "       ...,\n",
       "       [ 0.95119085,  0.92866354,  0.87046801, ...,  0.89111804,\n",
       "         0.83329799,  0.85357254],\n",
       "       [ 0.92866354,  0.87046801,  0.93429537, ...,  0.83329799,\n",
       "         0.85357254,  0.79575248],\n",
       "       [ 0.87046801,  0.93429537,  0.89111804, ...,  0.85357254,\n",
       "         0.79575248,  0.87797711]])"
      ]
     },
     "execution_count": 22,
     "metadata": {},
     "output_type": "execute_result"
    }
   ],
   "source": [
    "X = dc(np.flip(X, axis=1))\n",
    "X"
   ]
  },
  {
   "cell_type": "code",
   "execution_count": 23,
   "id": "3bb0caec",
   "metadata": {},
   "outputs": [
    {
     "data": {
      "text/plain": [
       "2895"
      ]
     },
     "execution_count": 23,
     "metadata": {},
     "output_type": "execute_result"
    }
   ],
   "source": [
    "split_index = int(len(X) * 0.95)\n",
    "\n",
    "split_index"
   ]
  },
  {
   "cell_type": "code",
   "execution_count": 24,
   "id": "ff6e1493",
   "metadata": {},
   "outputs": [
    {
     "data": {
      "text/plain": [
       "((2895, 7), (153, 7), (2895,), (153,))"
      ]
     },
     "execution_count": 24,
     "metadata": {},
     "output_type": "execute_result"
    }
   ],
   "source": [
    "X_train = X[:split_index]\n",
    "X_test = X[split_index:]\n",
    "\n",
    "y_train = y[:split_index]\n",
    "y_test = y[split_index:]\n",
    "\n",
    "X_train.shape, X_test.shape, y_train.shape, y_test.shape"
   ]
  },
  {
   "cell_type": "code",
   "execution_count": 25,
   "id": "18e9bf50",
   "metadata": {},
   "outputs": [
    {
     "data": {
      "text/plain": [
       "((2895, 7, 1), (153, 7, 1), (2895, 1), (153, 1))"
      ]
     },
     "execution_count": 25,
     "metadata": {},
     "output_type": "execute_result"
    }
   ],
   "source": [
    "X_train = X_train.reshape((-1, lookback, 1))\n",
    "X_test = X_test.reshape((-1, lookback, 1))\n",
    "\n",
    "y_train = y_train.reshape((-1, 1))\n",
    "y_test = y_test.reshape((-1, 1))\n",
    "\n",
    "X_train.shape, X_test.shape, y_train.shape, y_test.shape"
   ]
  },
  {
   "cell_type": "code",
   "execution_count": 26,
   "id": "719818f1",
   "metadata": {},
   "outputs": [
    {
     "data": {
      "text/plain": [
       "(torch.Size([2895, 7, 1]),\n",
       " torch.Size([153, 7, 1]),\n",
       " torch.Size([2895, 1]),\n",
       " torch.Size([153, 1]))"
      ]
     },
     "execution_count": 26,
     "metadata": {},
     "output_type": "execute_result"
    }
   ],
   "source": [
    "X_train = torch.tensor(X_train).float()\n",
    "y_train = torch.tensor(y_train).float()\n",
    "X_test = torch.tensor(X_test).float()\n",
    "y_test = torch.tensor(y_test).float()\n",
    "\n",
    "X_train.shape, X_test.shape, y_train.shape, y_test.shape"
   ]
  },
  {
   "cell_type": "code",
   "execution_count": 27,
   "id": "96457473",
   "metadata": {},
   "outputs": [],
   "source": [
    "from torch.utils.data import Dataset\n",
    "\n",
    "class TimeSeriesDataset(Dataset):\n",
    "    def __init__(self, X, y):\n",
    "        self.X = X\n",
    "        self.y = y\n",
    "\n",
    "    def __len__(self):\n",
    "        return len(self.X)\n",
    "\n",
    "    def __getitem__(self, i):\n",
    "        return self.X[i], self.y[i]\n",
    "    \n",
    "train_dataset = TimeSeriesDataset(X_train, y_train)\n",
    "test_dataset = TimeSeriesDataset(X_test, y_test)"
   ]
  },
  {
   "cell_type": "code",
   "execution_count": 28,
   "id": "c845e8f4",
   "metadata": {},
   "outputs": [
    {
     "data": {
      "text/plain": [
       "<__main__.TimeSeriesDataset at 0x15a73aad0>"
      ]
     },
     "execution_count": 28,
     "metadata": {},
     "output_type": "execute_result"
    }
   ],
   "source": [
    "train_dataset"
   ]
  },
  {
   "cell_type": "code",
   "execution_count": 29,
   "id": "c4658f20",
   "metadata": {},
   "outputs": [],
   "source": [
    "from torch.utils.data import DataLoader\n",
    "\n",
    "batch_size = 16\n",
    "\n",
    "train_loader = DataLoader(train_dataset, batch_size=batch_size, shuffle=True)\n",
    "test_loader = DataLoader(test_dataset, batch_size=batch_size, shuffle=False)"
   ]
  },
  {
   "cell_type": "code",
   "execution_count": 30,
   "id": "311721b0",
   "metadata": {},
   "outputs": [
    {
     "name": "stdout",
     "output_type": "stream",
     "text": [
      "torch.Size([16, 7, 1]) torch.Size([16, 1])\n"
     ]
    }
   ],
   "source": [
    "for _, batch in enumerate(train_loader):\n",
    "    x_batch, y_batch = batch[0].to(device), batch[1].to(device)\n",
    "    print(x_batch.shape, y_batch.shape)\n",
    "    break"
   ]
  },
  {
   "cell_type": "code",
   "execution_count": 31,
   "id": "6d0b5038",
   "metadata": {},
   "outputs": [
    {
     "data": {
      "text/plain": [
       "LSTM(\n",
       "  (lstm): LSTM(1, 4, batch_first=True)\n",
       "  (fc): Linear(in_features=4, out_features=1, bias=True)\n",
       ")"
      ]
     },
     "execution_count": 31,
     "metadata": {},
     "output_type": "execute_result"
    }
   ],
   "source": [
    "class LSTM(nn.Module):\n",
    "    def __init__(self, input_size, hidden_size, num_stacked_layers):\n",
    "        super().__init__()\n",
    "        self.hidden_size = hidden_size\n",
    "        self.num_stacked_layers = num_stacked_layers\n",
    "\n",
    "        self.lstm = nn.LSTM(input_size, hidden_size, num_stacked_layers, \n",
    "                            batch_first=True)\n",
    "        \n",
    "        self.fc = nn.Linear(hidden_size, 1)\n",
    "\n",
    "    def forward(self, x):\n",
    "        batch_size = x.size(0)\n",
    "        h0 = torch.zeros(self.num_stacked_layers, batch_size, self.hidden_size).to(device)\n",
    "        c0 = torch.zeros(self.num_stacked_layers, batch_size, self.hidden_size).to(device)\n",
    "        \n",
    "        out, _ = self.lstm(x, (h0, c0))\n",
    "        out = self.fc(out[:, -1, :])\n",
    "        return out\n",
    "\n",
    "model = LSTM(1, 4, 1)\n",
    "model.to(device)\n",
    "model"
   ]
  },
  {
   "cell_type": "code",
   "execution_count": 32,
   "id": "8b279ada",
   "metadata": {},
   "outputs": [],
   "source": [
    "def train_one_epoch():\n",
    "    model.train(True)\n",
    "    print(f'Epoch: {epoch + 1}')\n",
    "    running_loss = 0.0\n",
    "    \n",
    "    for batch_index, batch in enumerate(train_loader):\n",
    "        x_batch, y_batch = batch[0].to(device), batch[1].to(device)\n",
    "        \n",
    "        output = model(x_batch)\n",
    "        loss = loss_function(output, y_batch)\n",
    "        running_loss += loss.item()\n",
    "        \n",
    "        optimizer.zero_grad()\n",
    "        loss.backward()\n",
    "        optimizer.step()\n",
    "\n",
    "        if batch_index % 100 == 99:  # print every 100 batches\n",
    "            avg_loss_across_batches = running_loss / 100\n",
    "            print('Batch {0}, Loss: {1:.3f}'.format(batch_index+1,\n",
    "                                                    avg_loss_across_batches))\n",
    "            running_loss = 0.0\n",
    "    print()"
   ]
  },
  {
   "cell_type": "code",
   "execution_count": 33,
   "id": "3b15401a",
   "metadata": {},
   "outputs": [],
   "source": [
    "def validate_one_epoch():\n",
    "    model.train(False)\n",
    "    running_loss = 0.0\n",
    "    \n",
    "    for batch_index, batch in enumerate(test_loader):\n",
    "        x_batch, y_batch = batch[0].to(device), batch[1].to(device)\n",
    "        \n",
    "        with torch.no_grad():\n",
    "            output = model(x_batch)\n",
    "            loss = loss_function(output, y_batch)\n",
    "            running_loss += loss.item()\n",
    "\n",
    "    avg_loss_across_batches = running_loss / len(test_loader)\n",
    "    \n",
    "    print('Val Loss: {0:.3f}'.format(avg_loss_across_batches))\n",
    "    print('***************************************************')\n",
    "    print()"
   ]
  },
  {
   "cell_type": "code",
   "execution_count": 34,
   "id": "021d08c1",
   "metadata": {},
   "outputs": [
    {
     "name": "stdout",
     "output_type": "stream",
     "text": [
      "Epoch: 1\n",
      "Batch 100, Loss: 0.877\n",
      "\n",
      "Val Loss: 0.568\n",
      "***************************************************\n",
      "\n",
      "Epoch: 2\n",
      "Batch 100, Loss: 0.018\n",
      "\n",
      "Val Loss: 0.567\n",
      "***************************************************\n",
      "\n",
      "Epoch: 3\n",
      "Batch 100, Loss: 0.007\n",
      "\n",
      "Val Loss: 0.492\n",
      "***************************************************\n",
      "\n",
      "Epoch: 4\n",
      "Batch 100, Loss: 0.002\n",
      "\n",
      "Val Loss: 0.448\n",
      "***************************************************\n",
      "\n",
      "Epoch: 5\n",
      "Batch 100, Loss: 0.001\n",
      "\n",
      "Val Loss: 0.430\n",
      "***************************************************\n",
      "\n",
      "Epoch: 6\n",
      "Batch 100, Loss: 0.001\n",
      "\n",
      "Val Loss: 0.426\n",
      "***************************************************\n",
      "\n",
      "Epoch: 7\n",
      "Batch 100, Loss: 0.001\n",
      "\n",
      "Val Loss: 0.426\n",
      "***************************************************\n",
      "\n",
      "Epoch: 8\n",
      "Batch 100, Loss: 0.001\n",
      "\n",
      "Val Loss: 0.427\n",
      "***************************************************\n",
      "\n",
      "Epoch: 9\n",
      "Batch 100, Loss: 0.001\n",
      "\n",
      "Val Loss: 0.427\n",
      "***************************************************\n",
      "\n",
      "Epoch: 10\n",
      "Batch 100, Loss: 0.001\n",
      "\n",
      "Val Loss: 0.422\n",
      "***************************************************\n",
      "\n"
     ]
    }
   ],
   "source": [
    "learning_rate = 0.001\n",
    "num_epochs = 10\n",
    "loss_function = nn.MSELoss()\n",
    "optimizer = torch.optim.Adam(model.parameters(), lr=learning_rate)\n",
    "\n",
    "for epoch in range(num_epochs):\n",
    "    train_one_epoch()\n",
    "    validate_one_epoch()"
   ]
  },
  {
   "cell_type": "code",
   "execution_count": 35,
   "id": "a8df962a",
   "metadata": {},
   "outputs": [
    {
     "data": {
      "image/png": "[encoded data removed]",
      "text/plain": [
       "<Figure size 640x480 with 1 Axes>"
      ]
     },
     "metadata": {},
     "output_type": "display_data"
    }
   ],
   "source": [
    "with torch.no_grad():\n",
    "    predicted = model(X_train.to(device)).to('cpu').numpy()\n",
    "\n",
    "plt.plot(y_train, label='Actual Close')\n",
    "plt.plot(predicted, label='Predicted Close')\n",
    "plt.xlabel('Day')\n",
    "plt.ylabel('Close')\n",
    "plt.legend()\n",
    "plt.show()"
   ]
  },
  {
   "cell_type": "code",
   "execution_count": 36,
   "id": "cfe1c848",
   "metadata": {},
   "outputs": [
    {
     "data": {
      "text/plain": [
       "array([  6.24765951,   6.25664493,   6.25350162, ..., 129.17263946,\n",
       "       128.75579156, 129.11095595])"
      ]
     },
     "execution_count": 36,
     "metadata": {},
     "output_type": "execute_result"
    }
   ],
   "source": [
    "train_predictions = predicted.flatten()\n",
    "\n",
    "dummies = np.zeros((X_train.shape[0], lookback+1))\n",
    "dummies[:, 0] = train_predictions\n",
    "dummies = scaler.inverse_transform(dummies)\n",
    "\n",
    "train_predictions = dc(dummies[:, 0])\n",
    "train_predictions"
   ]
  },
  {
   "cell_type": "code",
   "execution_count": 37,
   "id": "d0c15f8b",
   "metadata": {},
   "outputs": [
    {
     "data": {
      "text/plain": [
       "array([  2.37390962,   2.33043509,   2.36521789, ..., 125.49999996,\n",
       "       132.80000307, 128.80000281])"
      ]
     },
     "execution_count": 37,
     "metadata": {},
     "output_type": "execute_result"
    }
   ],
   "source": [
    "dummies = np.zeros((X_train.shape[0], lookback+1))\n",
    "dummies[:, 0] = y_train.flatten()\n",
    "dummies = scaler.inverse_transform(dummies)\n",
    "\n",
    "new_y_train = dc(dummies[:, 0])\n",
    "new_y_train"
   ]
  },
  {
   "cell_type": "code",
   "execution_count": 38,
   "id": "baf9acef",
   "metadata": {},
   "outputs": [
    {
     "data": {
      "image/png": "[encoded data removed]",
      "text/plain": [
       "<Figure size 640x480 with 1 Axes>"
      ]
     },
     "metadata": {},
     "output_type": "display_data"
    }
   ],
   "source": [
    "plt.plot(new_y_train, label='Actual Close')\n",
    "plt.plot(train_predictions, label='Predicted Close')\n",
    "plt.xlabel('Day')\n",
    "plt.ylabel('Close')\n",
    "plt.legend()\n",
    "plt.show()"
   ]
  },
  {
   "cell_type": "code",
   "execution_count": 39,
   "id": "9b8e3426",
   "metadata": {},
   "outputs": [
    {
     "data": {
      "text/plain": [
       "array([128.97668259, 128.8681689 , 129.58869756, 129.71079852,\n",
       "       129.29820124, 130.00417621, 130.31629271, 130.38079012,\n",
       "       130.76526429, 130.71460817, 130.69305942, 131.00986311,\n",
       "       131.52205414, 132.06986737, 132.67902082, 132.92720348,\n",
       "       133.42602155, 134.02767193, 135.24468101, 135.94315093,\n",
       "       136.7979966 , 137.35026087, 138.08955018, 138.8135079 ,\n",
       "       139.08192166, 139.42622337, 139.62768698, 139.67034195,\n",
       "       139.50700686, 139.32193251, 139.06981078, 139.33417833,\n",
       "       139.51439284, 139.81858757, 140.07946056, 140.77335243,\n",
       "       141.06232869, 141.54828577, 141.75230928, 141.87538658,\n",
       "       141.95685469, 142.04151969, 141.95946816, 141.93285122,\n",
       "       141.99089135, 142.09633118, 142.01977846, 142.21837857,\n",
       "       142.2680405 , 142.28353282, 142.28575933, 142.21079612,\n",
       "       142.33562566, 142.44090078, 142.5698321 , 142.57040758,\n",
       "       142.52750059, 142.62938832, 142.62614579, 142.85599148,\n",
       "       143.07229157, 142.94968259, 142.91282707, 142.88492423,\n",
       "       142.97779578, 142.91953538, 142.91690901, 142.85234512,\n",
       "       142.96971128, 142.82155992, 142.95887439, 142.89053119,\n",
       "       142.68589846, 142.56590693, 142.71353738, 142.97674999,\n",
       "       142.85319743, 142.81316883, 142.91450688, 142.87340769,\n",
       "       142.88253103, 142.7946731 , 142.79385155, 142.78265252,\n",
       "       142.66456205, 142.70122608, 142.62642559, 142.73498293,\n",
       "       142.5380279 , 142.3595438 , 142.32373307, 142.38915521,\n",
       "       142.54874175, 142.44616146, 142.54197887, 142.44657819,\n",
       "       142.51934465, 142.74442874, 142.74386914, 142.90341797,\n",
       "       142.8098628 , 142.67712934, 142.74562634, 142.71353936,\n",
       "       142.54211778, 142.73686217, 142.58496127, 142.49439065,\n",
       "       142.42620422, 142.4124046 , 142.43086957, 142.27139615,\n",
       "       142.16661911, 141.97075749, 142.055486  , 142.12777818,\n",
       "       141.80005228, 141.96998952, 142.0183477 , 142.08424412,\n",
       "       142.10058378, 142.1278774 , 142.22126391, 142.33182154,\n",
       "       142.37376609, 142.39026252, 142.44873128, 142.49638697,\n",
       "       142.50037564, 142.56509134, 142.65090929, 142.63549634,\n",
       "       142.78385408, 142.91637421, 142.90557801, 143.06757065,\n",
       "       142.93132776, 142.91112444, 142.90120237, 142.92138088,\n",
       "       142.93490367, 142.86842185, 142.83247122, 142.98011655,\n",
       "       142.97737508, 142.93268609, 142.82937156, 142.955487  ,\n",
       "       142.86728775, 142.78897684, 142.8521695 , 142.74326786,\n",
       "       142.92292079])"
      ]
     },
     "execution_count": 39,
     "metadata": {},
     "output_type": "execute_result"
    }
   ],
   "source": [
    "test_predictions = model(X_test.to(device)).detach().cpu().numpy().flatten()\n",
    "\n",
    "dummies = np.zeros((X_test.shape[0], lookback+1))\n",
    "dummies[:, 0] = test_predictions\n",
    "dummies = scaler.inverse_transform(dummies)\n",
    "\n",
    "test_predictions = dc(dummies[:, 0])\n",
    "test_predictions"
   ]
  },
  {
   "cell_type": "code",
   "execution_count": 40,
   "id": "44708dce",
   "metadata": {},
   "outputs": [
    {
     "data": {
      "text/plain": [
       "array([126.80000317, 136.30000305, 132.60000618, 124.40000182,\n",
       "       135.8999939 , 137.10000611, 132.60000618, 135.5       ,\n",
       "       134.39999392, 132.80000307, 134.10000616, 142.30000296,\n",
       "       146.00000007, 146.99999965, 143.80000281, 146.99999965,\n",
       "       150.10000585, 164.49999907, 165.39999412, 172.50000158,\n",
       "       171.60000653, 176.89999413, 183.3000017 , 177.80000109,\n",
       "       182.89999552, 182.99999806, 180.69999528, 173.99999994,\n",
       "       171.39999352, 169.39999438, 180.30000498, 184.69999753,\n",
       "       190.99999859, 193.69999564, 210.49999715, 208.10000771,\n",
       "       216.49999854, 216.60000505, 215.19999335, 214.60000988,\n",
       "       215.29999985, 210.89999142, 209.50000354, 213.50000182,\n",
       "       218.80000529, 214.00000259, 223.60000799, 225.19999302,\n",
       "       223.60000799, 221.80000202, 217.30000296, 224.10000877,\n",
       "       228.50000132, 235.00000349, 234.30000557, 230.99999727,\n",
       "       236.49999788, 235.00000349, 248.8000043 , 266.89999116,\n",
       "       261.79998482, 260.00000266, 258.50000033, 265.70000835,\n",
       "       261.39999055, 259.7000149 , 254.50000205, 262.10000434,\n",
       "       251.39999088, 259.00000111, 254.89999632, 239.69999968,\n",
       "       230.49999649, 238.00000021, 255.99999644, 247.89999338,\n",
       "       245.00000316, 254.00000127, 252.69999608, 251.99999816,\n",
       "       245.00000316, 244.60000889, 243.30000369, 234.50000271,\n",
       "       235.9999971 , 231.69999518, 238.50000099, 227.10000549,\n",
       "       218.10000738, 218.60000816, 223.30000435, 232.60000611,\n",
       "       226.10000394, 232.4999996 , 227.49999977, 230.39998999,\n",
       "       243.19999718, 242.49999927, 253.39999399, 247.69999624,\n",
       "       238.50000099, 241.49999772, 238.39999448, 227.19999612,\n",
       "       238.10000672, 230.10000222, 225.10000239, 222.19999629,\n",
       "       223.00000071, 225.10000239, 216.49999854, 213.60000832,\n",
       "       207.10000615, 213.69999895, 218.00000087, 203.00000137,\n",
       "       214.19999973, 217.19999645, 218.89999592, 217.30000296,\n",
       "       218.10000738, 223.00000071, 225.69999379, 226.19999457,\n",
       "       225.99999743, 228.60000783, 230.20000079, 229.1000086 ,\n",
       "       232.19999596, 237.10000516, 235.60000283, 244.30000524,\n",
       "       254.24999769, 254.74999847, 268.5       , 261.99999783,\n",
       "       260.74999986, 259.7499983 , 260.50000344, 260.99999628,\n",
       "       255.00000283, 250.99999661, 260.74999986, 261.99999783,\n",
       "       259.00000111, 251.25000097, 259.7499983 , 254.00000127,\n",
       "       246.30000042, 249.00000144, 241.30000058, 252.25000252,\n",
       "       253.24999614])"
      ]
     },
     "execution_count": 40,
     "metadata": {},
     "output_type": "execute_result"
    }
   ],
   "source": [
    "dummies = np.zeros((X_test.shape[0], lookback+1))\n",
    "dummies[:, 0] = y_test.flatten()\n",
    "dummies = scaler.inverse_transform(dummies)\n",
    "\n",
    "new_y_test = dc(dummies[:, 0])\n",
    "new_y_test"
   ]
  },
  {
   "cell_type": "code",
   "execution_count": 41,
   "id": "720a5e0e",
   "metadata": {},
   "outputs": [
    {
     "data": {
      "image/png": "[encoded data removed]",
      "text/plain": [
       "<Figure size 640x480 with 1 Axes>"
      ]
     },
     "metadata": {},
     "output_type": "display_data"
    }
   ],
   "source": [
    "plt.plot(new_y_test, label='Actual Close')\n",
    "plt.plot(test_predictions, label='Predicted Close')\n",
    "plt.xlabel('Day')\n",
    "plt.ylabel('Close')\n",
    "plt.legend()\n",
    "plt.show()"
   ]
  },
  {
   "cell_type": "code",
   "execution_count": null,
   "id": "390cb7f0",
   "metadata": {},
   "outputs": [],
   "source": []
  }
 ],
 "metadata": {
  "kernelspec": {
   "display_name": "Python 3 (ipykernel)",
   "language": "python",
   "name": "python3"
  },
  "language_info": {
   "codemirror_mode": {
    "name": "ipython",
    "version": 3
   },
   "file_extension": ".py",
   "mimetype": "text/x-python",
   "name": "python",
   "nbconvert_exporter": "python",
   "pygments_lexer": "ipython3",
   "version": "3.11.3"
  }
 },
 "nbformat": 4,
 "nbformat_minor": 5
}
